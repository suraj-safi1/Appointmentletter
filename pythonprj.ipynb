{
  "nbformat": 4,
  "nbformat_minor": 0,
  "metadata": {
    "colab": {
      "name": "Untitled8.ipynb",
      "provenance": [],
      "authorship_tag": "ABX9TyNUhJa47wjTuopvph5Ojpn5",
      "include_colab_link": true
    },
    "kernelspec": {
      "name": "python3",
      "display_name": "Python 3"
    },
    "language_info": {
      "name": "python"
    }
  },
  "cells": [
    {
      "cell_type": "markdown",
      "metadata": {
        "id": "view-in-github",
        "colab_type": "text"
      },
      "source": [
        "<a href=\"https://colab.research.google.com/github/suraj-safi1/self_practice_projects/blob/main/pythonprj.ipynb\" target=\"_parent\"><img src=\"https://colab.research.google.com/assets/colab-badge.svg\" alt=\"Open In Colab\"/></a>"
      ]
    },
    {
      "cell_type": "code",
      "execution_count": 97,
      "metadata": {
        "colab": {
          "base_uri": "https://localhost:8080/"
        },
        "id": "o6NM0MzSBe8M",
        "outputId": "c543c199-c3f6-4666-a4fd-6a337b90a1ee"
      },
      "outputs": [
        {
          "output_type": "stream",
          "name": "stdout",
          "text": [
            "sun\n",
            "mon\n",
            "tue\n",
            "wed\n",
            "thu\n",
            "fri\n",
            "sat\n"
          ]
        }
      ],
      "source": [
        "list=['sun','mon','tue','wed','thu','fri','sat']\n",
        "for x in list:\n",
        "  print(x)"
      ]
    },
    {
      "cell_type": "code",
      "source": [
        "for x in range(2,51,2):\n",
        "  print(x)"
      ],
      "metadata": {
        "colab": {
          "base_uri": "https://localhost:8080/"
        },
        "id": "oTDbfPMjbe0F",
        "outputId": "03855b52-85c3-4a21-fdc8-ec9c14176f16"
      },
      "execution_count": 102,
      "outputs": [
        {
          "output_type": "stream",
          "name": "stdout",
          "text": [
            "2\n",
            "4\n",
            "6\n",
            "8\n",
            "10\n",
            "12\n",
            "14\n",
            "16\n",
            "18\n",
            "20\n",
            "22\n",
            "24\n",
            "26\n",
            "28\n",
            "30\n",
            "32\n",
            "34\n",
            "36\n",
            "38\n",
            "40\n",
            "42\n",
            "44\n",
            "46\n",
            "48\n",
            "50\n"
          ]
        }
      ]
    },
    {
      "cell_type": "code",
      "source": [
        "li=['harry','sohan','sachin','rahul']\n",
        "for name in li:\n",
        "  if name.startswith('s'):\n",
        "    print(\"hello \" + name)"
      ],
      "metadata": {
        "colab": {
          "base_uri": "https://localhost:8080/"
        },
        "id": "Do4aWjG_PMFt",
        "outputId": "3c6a12b2-0b24-43e5-85ec-3be99f7b8022"
      },
      "execution_count": 43,
      "outputs": [
        {
          "output_type": "stream",
          "name": "stdout",
          "text": [
            "hello sohan\n",
            "hello sachin\n"
          ]
        }
      ]
    },
    {
      "cell_type": "markdown",
      "source": [
        "# **write a program to find wheather a given number is prime or not**"
      ],
      "metadata": {
        "id": "wmHZQBvoPwgD"
      }
    },
    {
      "cell_type": "code",
      "source": [
        "num=int(input(\"enter the number to check:\"))\n",
        "\n",
        "prime=True\n",
        "for i in range(2,num):\n",
        "  if(num%i==0):\n",
        "    prime=False\n",
        "if prime:\n",
        "  print(\"this is prime \")\n",
        "else:\n",
        "  print(\"this is not prime\")"
      ],
      "metadata": {
        "colab": {
          "base_uri": "https://localhost:8080/"
        },
        "id": "XQPupY-uPuK4",
        "outputId": "a7819357-0df5-40ce-d255-2d7ab70097e2"
      },
      "execution_count": 104,
      "outputs": [
        {
          "output_type": "stream",
          "name": "stdout",
          "text": [
            "enter the number to check:7\n",
            "this is prime \n"
          ]
        }
      ]
    },
    {
      "cell_type": "markdown",
      "source": [
        "# **factorial of number**"
      ],
      "metadata": {
        "id": "FswLjH5lQtzZ"
      }
    },
    {
      "cell_type": "code",
      "source": [
        "num=int(input(\"enter the number to fact:\"))\n",
        "fact=1\n",
        "for i in range(1,num+1):\n",
        "  fact = fact * i\n",
        "print(f'The factorial of {num} is {fact}')"
      ],
      "metadata": {
        "colab": {
          "base_uri": "https://localhost:8080/"
        },
        "id": "XJmZ-lcCQhz6",
        "outputId": "860dcda7-7462-41bf-cda7-443889f07b98"
      },
      "execution_count": 105,
      "outputs": [
        {
          "output_type": "stream",
          "name": "stdout",
          "text": [
            "enter the number to fact:6\n",
            "The factorial of 6 is 720\n"
          ]
        }
      ]
    },
    {
      "cell_type": "markdown",
      "source": [
        "Sum of N natural number\n"
      ],
      "metadata": {
        "id": "1TIN-dbbSd_q"
      }
    },
    {
      "cell_type": "code",
      "source": [
        "num=int(input(\"enter the number to sum:\"))\n",
        "sum=0\n",
        "for i in range(1,num+1):\n",
        "  sum = sum + i\n",
        "print(f'The sum of {num} is {sum}')"
      ],
      "metadata": {
        "colab": {
          "base_uri": "https://localhost:8080/"
        },
        "id": "N2urR_H8SFcb",
        "outputId": "a116a1ea-fdec-4103-fd49-84f4e8a62e36"
      },
      "execution_count": 106,
      "outputs": [
        {
          "output_type": "stream",
          "name": "stdout",
          "text": [
            "enter the number to sum:9\n",
            "The sum of 9 is 45\n"
          ]
        }
      ]
    },
    {
      "cell_type": "code",
      "source": [
        ""
      ],
      "metadata": {
        "id": "wD5O0HyTSpwt"
      },
      "execution_count": null,
      "outputs": []
    },
    {
      "cell_type": "code",
      "source": [
        ""
      ],
      "metadata": {
        "id": "4AFC8-xNSrd1"
      },
      "execution_count": null,
      "outputs": []
    },
    {
      "cell_type": "markdown",
      "source": [
        "write a program to print star pattern\n",
        "     *\n",
        "  *  *  *\n",
        "*  *   *  *"
      ],
      "metadata": {
        "id": "D1wGnnS8S-LQ"
      }
    },
    {
      "cell_type": "code",
      "source": [
        "n=3\n",
        "for i in range(3):\n",
        "  print(\" \" * (n-i-1),end=\"\")\n",
        "  print(\"*\" * (2*i+1),end=\"\")\n",
        "  print(\" \" * (n-i-1))"
      ],
      "metadata": {
        "colab": {
          "base_uri": "https://localhost:8080/"
        },
        "id": "ik7XNM_GTVB_",
        "outputId": "1377b1a7-a2fc-456e-e624-5bd74314e5be"
      },
      "execution_count": 58,
      "outputs": [
        {
          "output_type": "stream",
          "name": "stdout",
          "text": [
            "  *  \n",
            " *** \n",
            "*****\n"
          ]
        }
      ]
    },
    {
      "cell_type": "code",
      "source": [
        "n=4 \n",
        "\n",
        "\n",
        "for i in range(4):\n",
        "  print(\"*\" * (i+1))"
      ],
      "metadata": {
        "colab": {
          "base_uri": "https://localhost:8080/"
        },
        "id": "VppnV8KDSrt9",
        "outputId": "28f46380-ecba-45a6-9fbd-de37a218bb5f"
      },
      "execution_count": 54,
      "outputs": [
        {
          "output_type": "stream",
          "name": "stdout",
          "text": [
            "*\n",
            "**\n",
            "***\n",
            "****\n"
          ]
        }
      ]
    },
    {
      "cell_type": "code",
      "source": [
        "n=3\n",
        "for i in range(1):\n",
        "  print(\" * \" * (n))\n",
        "  print(\" * \" + \"    \" +\"*\")\n",
        "  print(\" * \" * (n))"
      ],
      "metadata": {
        "colab": {
          "base_uri": "https://localhost:8080/"
        },
        "id": "eLRoVfXOS7te",
        "outputId": "86a34094-3892-446a-bf04-8910a3e41645"
      },
      "execution_count": 68,
      "outputs": [
        {
          "output_type": "stream",
          "name": "stdout",
          "text": [
            " *  *  * \n",
            " *     *\n",
            " *  *  * \n"
          ]
        }
      ]
    },
    {
      "cell_type": "code",
      "source": [
        ""
      ],
      "metadata": {
        "id": "amslFZyGVn1B"
      },
      "execution_count": null,
      "outputs": []
    },
    {
      "cell_type": "code",
      "source": [
        "for x in range(1,101):\n",
        "  if(x%5==0):\n",
        "    continue\n",
        "  print(x)"
      ],
      "metadata": {
        "colab": {
          "base_uri": "https://localhost:8080/"
        },
        "id": "uSELMFrwBteR",
        "outputId": "79ab26b6-1c2d-4e9a-e05b-80cc562a2cae"
      },
      "execution_count": 107,
      "outputs": [
        {
          "output_type": "stream",
          "name": "stdout",
          "text": [
            "1\n",
            "2\n",
            "3\n",
            "4\n",
            "6\n",
            "7\n",
            "8\n",
            "9\n",
            "11\n",
            "12\n",
            "13\n",
            "14\n",
            "16\n",
            "17\n",
            "18\n",
            "19\n",
            "21\n",
            "22\n",
            "23\n",
            "24\n",
            "26\n",
            "27\n",
            "28\n",
            "29\n",
            "31\n",
            "32\n",
            "33\n",
            "34\n",
            "36\n",
            "37\n",
            "38\n",
            "39\n",
            "41\n",
            "42\n",
            "43\n",
            "44\n",
            "46\n",
            "47\n",
            "48\n",
            "49\n",
            "51\n",
            "52\n",
            "53\n",
            "54\n",
            "56\n",
            "57\n",
            "58\n",
            "59\n",
            "61\n",
            "62\n",
            "63\n",
            "64\n",
            "66\n",
            "67\n",
            "68\n",
            "69\n",
            "71\n",
            "72\n",
            "73\n",
            "74\n",
            "76\n",
            "77\n",
            "78\n",
            "79\n",
            "81\n",
            "82\n",
            "83\n",
            "84\n",
            "86\n",
            "87\n",
            "88\n",
            "89\n",
            "91\n",
            "92\n",
            "93\n",
            "94\n",
            "96\n",
            "97\n",
            "98\n",
            "99\n"
          ]
        }
      ]
    },
    {
      "cell_type": "code",
      "source": [
        "for x in range(1,101,2):\n",
        "  print(x) "
      ],
      "metadata": {
        "colab": {
          "base_uri": "https://localhost:8080/"
        },
        "id": "GTSDRGl9CCx1",
        "outputId": "60c27fdc-9b7d-445d-ecee-07c8450c44f6"
      },
      "execution_count": 85,
      "outputs": [
        {
          "output_type": "stream",
          "name": "stdout",
          "text": [
            "1\n",
            "3\n",
            "5\n",
            "7\n",
            "9\n",
            "11\n",
            "13\n",
            "15\n",
            "17\n",
            "19\n",
            "21\n",
            "23\n",
            "25\n",
            "27\n",
            "29\n",
            "31\n",
            "33\n",
            "35\n",
            "37\n",
            "39\n",
            "41\n",
            "43\n",
            "45\n",
            "47\n",
            "49\n",
            "51\n",
            "53\n",
            "55\n",
            "57\n",
            "59\n",
            "61\n",
            "63\n",
            "65\n",
            "67\n",
            "69\n",
            "71\n",
            "73\n",
            "75\n",
            "77\n",
            "79\n",
            "81\n",
            "83\n",
            "85\n",
            "87\n",
            "89\n",
            "91\n",
            "93\n",
            "95\n",
            "97\n",
            "99\n"
          ]
        }
      ]
    },
    {
      "cell_type": "code",
      "source": [
        "def sum(a,b):\n",
        "  c=a+b\n",
        "  print(c)"
      ],
      "metadata": {
        "id": "jn0ji_PQHP6r"
      },
      "execution_count": null,
      "outputs": []
    },
    {
      "cell_type": "code",
      "source": [
        "sum(8,9)"
      ],
      "metadata": {
        "colab": {
          "base_uri": "https://localhost:8080/"
        },
        "id": "OGBaP7QeHZgk",
        "outputId": "e416d440-09fc-46c0-92b0-e34dc538aaf9"
      },
      "execution_count": null,
      "outputs": [
        {
          "output_type": "stream",
          "name": "stdout",
          "text": [
            "17\n"
          ]
        }
      ]
    },
    {
      "cell_type": "markdown",
      "source": [
        "# **FUNCTIONS**"
      ],
      "metadata": {
        "id": "2XcplCTsVriF"
      }
    },
    {
      "cell_type": "code",
      "source": [
        "def percent(marks):\n",
        "  a= (marks[0]+marks[1]+marks[2]+marks[3])/4\n",
        "  return a"
      ],
      "metadata": {
        "id": "_7F11prBVvMl"
      },
      "execution_count": 76,
      "outputs": []
    },
    {
      "cell_type": "code",
      "source": [
        "marks=[34,56,78,90]\n",
        "p= percent(marks)\n",
        "print(p)"
      ],
      "metadata": {
        "colab": {
          "base_uri": "https://localhost:8080/"
        },
        "id": "1JW43Dn6WjtQ",
        "outputId": "bbdb3322-e54c-4524-a202-aefbd3eaa62c"
      },
      "execution_count": 77,
      "outputs": [
        {
          "output_type": "stream",
          "name": "stdout",
          "text": [
            "64.5\n"
          ]
        }
      ]
    },
    {
      "cell_type": "code",
      "source": [
        "a=int(input(\"Enter number to print table:\"))\n",
        "for x in range(1,11):\n",
        "   print(f'{a} X  {x} =  {a*x}')"
      ],
      "metadata": {
        "colab": {
          "base_uri": "https://localhost:8080/"
        },
        "id": "z6sthPrqgawi",
        "outputId": "88ccdfbb-ffea-4a50-a768-6e8d7f3aa8d2"
      },
      "execution_count": 92,
      "outputs": [
        {
          "output_type": "stream",
          "name": "stdout",
          "text": [
            "Enter number to print table:6\n",
            "6 X  1 =  6\n",
            "6 X  2 =  12\n",
            "6 X  3 =  18\n",
            "6 X  4 =  24\n",
            "6 X  5 =  30\n",
            "6 X  6 =  36\n",
            "6 X  7 =  42\n",
            "6 X  8 =  48\n",
            "6 X  9 =  54\n",
            "6 X  10 =  60\n"
          ]
        }
      ]
    },
    {
      "cell_type": "code",
      "source": [
        "table(7)"
      ],
      "metadata": {
        "colab": {
          "base_uri": "https://localhost:8080/"
        },
        "id": "stOy2XSbhR5J",
        "outputId": "c66a8ffe-3702-41fd-e801-7760b36c9b42"
      },
      "execution_count": 93,
      "outputs": [
        {
          "output_type": "stream",
          "name": "stdout",
          "text": [
            "7 X  1 =  7\n",
            "7 X  2 =  14\n",
            "7 X  3 =  21\n",
            "7 X  4 =  28\n",
            "7 X  5 =  35\n",
            "7 X  6 =  42\n",
            "7 X  7 =  49\n",
            "7 X  8 =  56\n",
            "7 X  9 =  63\n",
            "7 X  10 =  70\n"
          ]
        }
      ]
    },
    {
      "cell_type": "code",
      "source": [
        "table(190)"
      ],
      "metadata": {
        "colab": {
          "base_uri": "https://localhost:8080/"
        },
        "id": "Buu23Bz0hZvQ",
        "outputId": "9399f495-a84c-442a-fe4e-00ac8181e9df"
      },
      "execution_count": 94,
      "outputs": [
        {
          "output_type": "stream",
          "name": "stdout",
          "text": [
            "190 X  1 =  190\n",
            "190 X  2 =  380\n",
            "190 X  3 =  570\n",
            "190 X  4 =  760\n",
            "190 X  5 =  950\n",
            "190 X  6 =  1140\n",
            "190 X  7 =  1330\n",
            "190 X  8 =  1520\n",
            "190 X  9 =  1710\n",
            "190 X  10 =  1900\n"
          ]
        }
      ]
    },
    {
      "cell_type": "code",
      "source": [
        "def table(a):\n",
        "  for x in range(1,11):\n",
        "    print(f'{a} X  {x} =  {a*x}')"
      ],
      "metadata": {
        "id": "N4cH6JCuCaqh"
      },
      "execution_count": null,
      "outputs": []
    },
    {
      "cell_type": "code",
      "source": [
        "table(9)"
      ],
      "metadata": {
        "colab": {
          "base_uri": "https://localhost:8080/"
        },
        "id": "yyvPuNU0C8cj",
        "outputId": "8a49e138-7ab7-4102-bac9-69be3d87e3ec"
      },
      "execution_count": null,
      "outputs": [
        {
          "output_type": "stream",
          "name": "stdout",
          "text": [
            "9 X  1 =  9\n",
            "9 X  2 =  18\n",
            "9 X  3 =  27\n",
            "9 X  4 =  36\n",
            "9 X  5 =  45\n",
            "9 X  6 =  54\n",
            "9 X  7 =  63\n",
            "9 X  8 =  72\n",
            "9 X  9 =  81\n",
            "9 X  10 =  90\n"
          ]
        }
      ]
    },
    {
      "cell_type": "code",
      "source": [
        "table(17)"
      ],
      "metadata": {
        "colab": {
          "base_uri": "https://localhost:8080/"
        },
        "id": "pENhhxh4H84U",
        "outputId": "2d385337-a2c8-4edf-a4ed-46ff52df7693"
      },
      "execution_count": null,
      "outputs": [
        {
          "output_type": "stream",
          "name": "stdout",
          "text": [
            "17 X  1 =  17\n",
            "17 X  2 =  34\n",
            "17 X  3 =  51\n",
            "17 X  4 =  68\n",
            "17 X  5 =  85\n",
            "17 X  6 =  102\n",
            "17 X  7 =  119\n",
            "17 X  8 =  136\n",
            "17 X  9 =  153\n",
            "17 X  10 =  170\n"
          ]
        }
      ]
    },
    {
      "cell_type": "code",
      "source": [
        "sum(88,9999)"
      ],
      "metadata": {
        "colab": {
          "base_uri": "https://localhost:8080/"
        },
        "id": "B-Nqz19qIBYP",
        "outputId": "fe566a52-38b6-4a74-8c6a-7f41c124ac93"
      },
      "execution_count": null,
      "outputs": [
        {
          "output_type": "stream",
          "name": "stdout",
          "text": [
            "10087\n"
          ]
        }
      ]
    },
    {
      "cell_type": "code",
      "source": [
        "def mul(a,b):\n",
        "  c= a*b\n",
        "  print(c)"
      ],
      "metadata": {
        "id": "-EmGHTonIJo9"
      },
      "execution_count": null,
      "outputs": []
    },
    {
      "cell_type": "code",
      "source": [
        "sum(45,89)\n",
        "mul(45,89)"
      ],
      "metadata": {
        "colab": {
          "base_uri": "https://localhost:8080/"
        },
        "id": "G-ylyzL_Icem",
        "outputId": "907ccca7-ebee-4ca2-fff0-d597f56f37cf"
      },
      "execution_count": null,
      "outputs": [
        {
          "output_type": "stream",
          "name": "stdout",
          "text": [
            "134\n",
            "4005\n"
          ]
        }
      ]
    },
    {
      "cell_type": "code",
      "source": [
        "def div(a,b):\n",
        "  c=a/b\n",
        "  print(c)"
      ],
      "metadata": {
        "id": "8DquoWdKIk4z"
      },
      "execution_count": null,
      "outputs": []
    },
    {
      "cell_type": "code",
      "source": [
        "div(88,4)"
      ],
      "metadata": {
        "colab": {
          "base_uri": "https://localhost:8080/"
        },
        "id": "q4a_TEXcIyHV",
        "outputId": "d47a09c5-617c-4597-cd76-c5d4e075ab09"
      },
      "execution_count": null,
      "outputs": [
        {
          "output_type": "stream",
          "name": "stdout",
          "text": [
            "22.0\n"
          ]
        }
      ]
    },
    {
      "cell_type": "code",
      "source": [
        "def subs(a,b):\n",
        "  c=a-b\n",
        "  print(c)"
      ],
      "metadata": {
        "id": "FktRzFpXJHu-"
      },
      "execution_count": null,
      "outputs": []
    },
    {
      "cell_type": "code",
      "source": [
        "sum(99,45)\n",
        "mul(99,45)\n",
        "div(99,45)\n",
        "subs(99,45)"
      ],
      "metadata": {
        "colab": {
          "base_uri": "https://localhost:8080/"
        },
        "id": "3lwPedZ9JO9F",
        "outputId": "2c077e9c-6b0e-4fb0-8c8d-509b24487eab"
      },
      "execution_count": null,
      "outputs": [
        {
          "output_type": "stream",
          "name": "stdout",
          "text": [
            "144\n",
            "4455\n",
            "2.2\n",
            "54\n"
          ]
        }
      ]
    },
    {
      "cell_type": "markdown",
      "source": [
        "dictionary in python"
      ],
      "metadata": {
        "id": "yG3LmsajL3Bs"
      }
    },
    {
      "cell_type": "code",
      "source": [
        "list= { 'name': ['priyanka','rai','nidhi','muskan','kunwar','abhinav'],\n",
        "       'age':[12,13,14,12,14,15],\n",
        "       'location':['banbasa','fagpur','khatima','tanakpur','banbasa','khatima']}"
      ],
      "metadata": {
        "id": "-0xJ98XoJlDb"
      },
      "execution_count": null,
      "outputs": []
    },
    {
      "cell_type": "code",
      "source": [
        "type (list)"
      ],
      "metadata": {
        "colab": {
          "base_uri": "https://localhost:8080/"
        },
        "id": "QfLY9kHGKIjE",
        "outputId": "8c06fcb4-89af-41e9-b810-396410994344"
      },
      "execution_count": null,
      "outputs": [
        {
          "output_type": "execute_result",
          "data": {
            "text/plain": [
              "dict"
            ]
          },
          "metadata": {},
          "execution_count": 35
        }
      ]
    },
    {
      "cell_type": "code",
      "source": [
        "list.keys()"
      ],
      "metadata": {
        "colab": {
          "base_uri": "https://localhost:8080/"
        },
        "id": "F87OkcX2KVC4",
        "outputId": "7ef37305-6a3c-437d-d84c-bc27e4fbc76e"
      },
      "execution_count": null,
      "outputs": [
        {
          "output_type": "execute_result",
          "data": {
            "text/plain": [
              "dict_keys(['name', 'age', 'location'])"
            ]
          },
          "metadata": {},
          "execution_count": 36
        }
      ]
    },
    {
      "cell_type": "code",
      "source": [
        "list.values()"
      ],
      "metadata": {
        "colab": {
          "base_uri": "https://localhost:8080/"
        },
        "id": "Z7es22jGKbu4",
        "outputId": "954ab6cf-46c2-47e6-ca39-00bb93d5185c"
      },
      "execution_count": null,
      "outputs": [
        {
          "output_type": "execute_result",
          "data": {
            "text/plain": [
              "dict_values([['priyanka', 'rai', 'nidhi', 'muskan', 'kunwar', 'abhinav'], [12, 13, 14, 12, 14, 15], ['banbasa', 'fagpur', 'khatima', 'tanakpur', 'banbasa', 'khatima']])"
            ]
          },
          "metadata": {},
          "execution_count": 37
        }
      ]
    },
    {
      "cell_type": "markdown",
      "source": [
        "Install Python Libraries\n",
        "-pandas-data framing and manipulations\n",
        "-numpy-array\n",
        "-matplotlib-graphical represt the data\n",
        "-seaborn-graphical represt the data"
      ],
      "metadata": {
        "id": "E3XO6B9aMMnm"
      }
    },
    {
      "cell_type": "code",
      "source": [
        "pip install pandas"
      ],
      "metadata": {
        "colab": {
          "base_uri": "https://localhost:8080/"
        },
        "id": "-6a5eVmvKlcF",
        "outputId": "7d02c1a7-3b13-460d-97b8-8e17ae3d5a87"
      },
      "execution_count": null,
      "outputs": [
        {
          "output_type": "stream",
          "name": "stdout",
          "text": [
            "Requirement already satisfied: pandas in /usr/local/lib/python3.7/dist-packages (1.1.5)\n",
            "Requirement already satisfied: python-dateutil>=2.7.3 in /usr/local/lib/python3.7/dist-packages (from pandas) (2.8.2)\n",
            "Requirement already satisfied: pytz>=2017.2 in /usr/local/lib/python3.7/dist-packages (from pandas) (2018.9)\n",
            "Requirement already satisfied: numpy>=1.15.4 in /usr/local/lib/python3.7/dist-packages (from pandas) (1.19.5)\n",
            "Requirement already satisfied: six>=1.5 in /usr/local/lib/python3.7/dist-packages (from python-dateutil>=2.7.3->pandas) (1.15.0)\n"
          ]
        }
      ]
    },
    {
      "cell_type": "code",
      "source": [
        "import pandas as pd"
      ],
      "metadata": {
        "id": "9fS3trR8Ku7E"
      },
      "execution_count": null,
      "outputs": []
    },
    {
      "cell_type": "code",
      "source": [
        "df=pd.DataFrame(list)"
      ],
      "metadata": {
        "id": "NA59g7ISK6pF"
      },
      "execution_count": null,
      "outputs": []
    },
    {
      "cell_type": "code",
      "source": [
        "df.head()"
      ],
      "metadata": {
        "colab": {
          "base_uri": "https://localhost:8080/",
          "height": 206
        },
        "id": "yRtxHF0tLBgX",
        "outputId": "a5f0f4c4-b0a6-4e2f-dfc8-dc3cee73602a"
      },
      "execution_count": null,
      "outputs": [
        {
          "output_type": "execute_result",
          "data": {
            "text/html": [
              "\n",
              "  <div id=\"df-e3cb7d34-2288-4cb1-9e6a-c0c58ae0bb91\">\n",
              "    <div class=\"colab-df-container\">\n",
              "      <div>\n",
              "<style scoped>\n",
              "    .dataframe tbody tr th:only-of-type {\n",
              "        vertical-align: middle;\n",
              "    }\n",
              "\n",
              "    .dataframe tbody tr th {\n",
              "        vertical-align: top;\n",
              "    }\n",
              "\n",
              "    .dataframe thead th {\n",
              "        text-align: right;\n",
              "    }\n",
              "</style>\n",
              "<table border=\"1\" class=\"dataframe\">\n",
              "  <thead>\n",
              "    <tr style=\"text-align: right;\">\n",
              "      <th></th>\n",
              "      <th>name</th>\n",
              "      <th>age</th>\n",
              "      <th>location</th>\n",
              "    </tr>\n",
              "  </thead>\n",
              "  <tbody>\n",
              "    <tr>\n",
              "      <th>0</th>\n",
              "      <td>priyanka</td>\n",
              "      <td>12</td>\n",
              "      <td>banbasa</td>\n",
              "    </tr>\n",
              "    <tr>\n",
              "      <th>1</th>\n",
              "      <td>rai</td>\n",
              "      <td>13</td>\n",
              "      <td>fagpur</td>\n",
              "    </tr>\n",
              "    <tr>\n",
              "      <th>2</th>\n",
              "      <td>nidhi</td>\n",
              "      <td>14</td>\n",
              "      <td>khatima</td>\n",
              "    </tr>\n",
              "    <tr>\n",
              "      <th>3</th>\n",
              "      <td>muskan</td>\n",
              "      <td>12</td>\n",
              "      <td>tanakpur</td>\n",
              "    </tr>\n",
              "    <tr>\n",
              "      <th>4</th>\n",
              "      <td>kunwar</td>\n",
              "      <td>14</td>\n",
              "      <td>banbasa</td>\n",
              "    </tr>\n",
              "  </tbody>\n",
              "</table>\n",
              "</div>\n",
              "      <button class=\"colab-df-convert\" onclick=\"convertToInteractive('df-e3cb7d34-2288-4cb1-9e6a-c0c58ae0bb91')\"\n",
              "              title=\"Convert this dataframe to an interactive table.\"\n",
              "              style=\"display:none;\">\n",
              "        \n",
              "  <svg xmlns=\"http://www.w3.org/2000/svg\" height=\"24px\"viewBox=\"0 0 24 24\"\n",
              "       width=\"24px\">\n",
              "    <path d=\"M0 0h24v24H0V0z\" fill=\"none\"/>\n",
              "    <path d=\"M18.56 5.44l.94 2.06.94-2.06 2.06-.94-2.06-.94-.94-2.06-.94 2.06-2.06.94zm-11 1L8.5 8.5l.94-2.06 2.06-.94-2.06-.94L8.5 2.5l-.94 2.06-2.06.94zm10 10l.94 2.06.94-2.06 2.06-.94-2.06-.94-.94-2.06-.94 2.06-2.06.94z\"/><path d=\"M17.41 7.96l-1.37-1.37c-.4-.4-.92-.59-1.43-.59-.52 0-1.04.2-1.43.59L10.3 9.45l-7.72 7.72c-.78.78-.78 2.05 0 2.83L4 21.41c.39.39.9.59 1.41.59.51 0 1.02-.2 1.41-.59l7.78-7.78 2.81-2.81c.8-.78.8-2.07 0-2.86zM5.41 20L4 18.59l7.72-7.72 1.47 1.35L5.41 20z\"/>\n",
              "  </svg>\n",
              "      </button>\n",
              "      \n",
              "  <style>\n",
              "    .colab-df-container {\n",
              "      display:flex;\n",
              "      flex-wrap:wrap;\n",
              "      gap: 12px;\n",
              "    }\n",
              "\n",
              "    .colab-df-convert {\n",
              "      background-color: #E8F0FE;\n",
              "      border: none;\n",
              "      border-radius: 50%;\n",
              "      cursor: pointer;\n",
              "      display: none;\n",
              "      fill: #1967D2;\n",
              "      height: 32px;\n",
              "      padding: 0 0 0 0;\n",
              "      width: 32px;\n",
              "    }\n",
              "\n",
              "    .colab-df-convert:hover {\n",
              "      background-color: #E2EBFA;\n",
              "      box-shadow: 0px 1px 2px rgba(60, 64, 67, 0.3), 0px 1px 3px 1px rgba(60, 64, 67, 0.15);\n",
              "      fill: #174EA6;\n",
              "    }\n",
              "\n",
              "    [theme=dark] .colab-df-convert {\n",
              "      background-color: #3B4455;\n",
              "      fill: #D2E3FC;\n",
              "    }\n",
              "\n",
              "    [theme=dark] .colab-df-convert:hover {\n",
              "      background-color: #434B5C;\n",
              "      box-shadow: 0px 1px 3px 1px rgba(0, 0, 0, 0.15);\n",
              "      filter: drop-shadow(0px 1px 2px rgba(0, 0, 0, 0.3));\n",
              "      fill: #FFFFFF;\n",
              "    }\n",
              "  </style>\n",
              "\n",
              "      <script>\n",
              "        const buttonEl =\n",
              "          document.querySelector('#df-e3cb7d34-2288-4cb1-9e6a-c0c58ae0bb91 button.colab-df-convert');\n",
              "        buttonEl.style.display =\n",
              "          google.colab.kernel.accessAllowed ? 'block' : 'none';\n",
              "\n",
              "        async function convertToInteractive(key) {\n",
              "          const element = document.querySelector('#df-e3cb7d34-2288-4cb1-9e6a-c0c58ae0bb91');\n",
              "          const dataTable =\n",
              "            await google.colab.kernel.invokeFunction('convertToInteractive',\n",
              "                                                     [key], {});\n",
              "          if (!dataTable) return;\n",
              "\n",
              "          const docLinkHtml = 'Like what you see? Visit the ' +\n",
              "            '<a target=\"_blank\" href=https://colab.research.google.com/notebooks/data_table.ipynb>data table notebook</a>'\n",
              "            + ' to learn more about interactive tables.';\n",
              "          element.innerHTML = '';\n",
              "          dataTable['output_type'] = 'display_data';\n",
              "          await google.colab.output.renderOutput(dataTable, element);\n",
              "          const docLink = document.createElement('div');\n",
              "          docLink.innerHTML = docLinkHtml;\n",
              "          element.appendChild(docLink);\n",
              "        }\n",
              "      </script>\n",
              "    </div>\n",
              "  </div>\n",
              "  "
            ],
            "text/plain": [
              "       name  age  location\n",
              "0  priyanka   12   banbasa\n",
              "1       rai   13    fagpur\n",
              "2     nidhi   14   khatima\n",
              "3    muskan   12  tanakpur\n",
              "4    kunwar   14   banbasa"
            ]
          },
          "metadata": {},
          "execution_count": 41
        }
      ]
    },
    {
      "cell_type": "markdown",
      "source": [
        ""
      ],
      "metadata": {
        "id": "bbugb1RcL0Su"
      }
    }
  ]
}